{
 "cells": [
  {
   "cell_type": "code",
   "execution_count": 1,
   "id": "6ea952a4-9baa-4ea7-ac0f-f9d3574beae6",
   "metadata": {},
   "outputs": [
    {
     "name": "stdout",
     "output_type": "stream",
     "text": [
      "Hello Juypter\n"
     ]
    }
   ],
   "source": [
    "print('Hello Juypter')"
   ]
  },
  {
   "cell_type": "code",
   "execution_count": 3,
   "id": "8a51c2bf-3e3c-4d0a-b3b3-a8a65d7a665e",
   "metadata": {},
   "outputs": [
    {
     "name": "stdout",
     "output_type": "stream",
     "text": [
      "100\n"
     ]
    }
   ],
   "source": [
    "print(1 + 99)"
   ]
  },
  {
   "cell_type": "code",
   "execution_count": 6,
   "id": "62bdf277-b902-4d3e-a150-419e70b11585",
   "metadata": {},
   "outputs": [
    {
     "name": "stdout",
     "output_type": "stream",
     "text": [
      "100\n"
     ]
    }
   ],
   "source": [
    "def make_squre(n):\n",
    "    return n ** 2 \n",
    "\n",
    "print(make_squre(10))\n"
   ]
  },
  {
   "cell_type": "code",
   "execution_count": null,
   "id": "16d6964b-b4a5-4543-bcfa-f9f8100df4f9",
   "metadata": {},
   "outputs": [],
   "source": []
  }
 ],
 "metadata": {
  "kernelspec": {
   "display_name": "Python 3 (ipykernel)",
   "language": "python",
   "name": "python3"
  },
  "language_info": {
   "codemirror_mode": {
    "name": "ipython",
    "version": 3
   },
   "file_extension": ".py",
   "mimetype": "text/x-python",
   "name": "python",
   "nbconvert_exporter": "python",
   "pygments_lexer": "ipython3",
   "version": "3.11.7"
  }
 },
 "nbformat": 4,
 "nbformat_minor": 5
}
